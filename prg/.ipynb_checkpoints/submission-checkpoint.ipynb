{
 "cells": [
  {
   "cell_type": "code",
   "execution_count": 1,
   "metadata": {
    "collapsed": false
   },
   "outputs": [
    {
     "data": {
      "text/plain": [
       "u'/Users/vincent/OneDrive/axa/DS winter school/winter_school_DS_QH2017/prg'"
      ]
     },
     "execution_count": 1,
     "metadata": {},
     "output_type": "execute_result"
    }
   ],
   "source": [
    "pwd\n"
   ]
  },
  {
   "cell_type": "code",
   "execution_count": 3,
   "metadata": {
    "collapsed": false
   },
   "outputs": [
    {
     "name": "stdout",
     "output_type": "stream",
     "text": [
      "[nltk_data] Downloading package punkt to /Users/vincent/nltk_data...\n",
      "[nltk_data]   Package punkt is already up-to-date!\n",
      "[nltk_data] Downloading package stopwords to\n",
      "[nltk_data]     /Users/vincent/nltk_data...\n",
      "[nltk_data]   Package stopwords is already up-to-date!\n"
     ]
    }
   ],
   "source": [
    "import random\n",
    "import numpy as np\n",
    "import igraph\n",
    "from sklearn import svm\n",
    "from sklearn.feature_extraction.text import TfidfVectorizer\n",
    "from sklearn.metrics.pairwise import linear_kernel\n",
    "from sklearn.cross_validation import KFold\n",
    "from sklearn.metrics import f1_score\n",
    "from sklearn import preprocessing\n",
    "import nltk\n",
    "import csv\n",
    "from scipy.spatial.distance import cosine\n",
    "\n",
    "\n",
    "\n",
    "# nltk.download('punkt') # for tokenization\n",
    "# nltk.download('stopwords')\n",
    "\n",
    "stpwds = set(nltk.corpus.stopwords.words(\"english\"))\n",
    "stemmer = nltk.stem.PorterStemmer()\n",
    "\n",
    "with open(\"../input/testing_set.txt\", \"r\") as f:\n",
    "    reader = csv.reader(f)\n",
    "    testing_set  = list(reader)\n",
    "\n",
    "testing_set = [element[0].split(\" \") for element in testing_set]\n",
    "# data loading and preprocessing\n",
    "\n",
    "# the columns of the data frame below are:\n",
    "# (1) paper unique ID (integer)\n",
    "# (2) publication year (integer)\n",
    "# (3) paper title (string)\n",
    "# (4) authors (strings separated by ,)\n",
    "# (5) name of journal (optional) (string)\n",
    "# (6) abstract (string) - lowercased, free of punctuation except intra-word dashes\n",
    "\n",
    "with open(\"../input/training_set.txt\", \"r\") as f:\n",
    "    reader = csv.reader(f)\n",
    "    training_set  = list(reader)\n",
    "\n",
    "training_set = [element[0].split(\" \") for element in training_set]\n",
    "with open(\"../input/node_information.csv\", \"r\") as f:\n",
    "    reader = csv.reader(f)\n",
    "    node_info  = list(reader)\n",
    "\n",
    "#to test code we select sample\n",
    "\n",
    "random.seed(22)\n",
    "\n",
    "to_keep = random.sample(range(len(training_set)), k=int(round(len(training_set)*0.05)))\n",
    "training_set = [training_set[i] for i in to_keep]\n",
    "valid_ids=set()\n",
    "for element in training_set:\n",
    "    valid_ids.add(element[0])\n",
    "    valid_ids.add(element[1])\n",
    "\n",
    "tmp=[element for element in node_info if element[0] in valid_ids ]\n",
    "node_info=tmp\n",
    "del tmp\n",
    "\n",
    "\n",
    "    "
   ]
  },
  {
   "cell_type": "code",
   "execution_count": 7,
   "metadata": {
    "collapsed": false
   },
   "outputs": [
    {
     "name": "stdout",
     "output_type": "stream",
     "text": [
      "0 training examples processsed\n",
      "10000 training examples processsed\n",
      "20000 training examples processsed\n",
      "30000 training examples processsed\n",
      "evaluating\n",
      "\n",
      "\n",
      "\n",
      "0.837000744538\n"
     ]
    }
   ],
   "source": [
    "IDs = []\n",
    "ID_pos={}\n",
    "for element in node_info:\n",
    "    ID_pos[element[0]]=len(IDs)\n",
    "    IDs.append(element[0])\n",
    "\n",
    "# we will use three basic features:\n",
    "\n",
    "# number of overlapping words in title\n",
    "overlap_title = []\n",
    "\n",
    "# temporal distance between the papers\n",
    "temp_diff = []\n",
    "\n",
    "# number of common authors\n",
    "comm_auth = []\n",
    "\n",
    "#content text feauture\n",
    "content_fea=[]\n",
    "\n",
    "#tfidf similarities\n",
    "tfidf_cos=[]\n",
    "vectorizer=TfidfVectorizer(stop_words=\"english\"\n",
    "            #,max_df=0.75\n",
    "                          )\n",
    "\n",
    "corpus=[element[5] for element in node_info]\n",
    "\n",
    "M = vectorizer.fit_transform(corpus)\n",
    "\n",
    "\n",
    "counter = 0\n",
    "for i in xrange(len(training_set)):\n",
    "    source = training_set[i][0]\n",
    "    target = training_set[i][1]\n",
    "\n",
    "    source_info = node_info[ID_pos[source]]\n",
    "    target_info = node_info[ID_pos[target]]\n",
    "  \n",
    "    # convert to lowercase and tokenize\n",
    "    source_title = source_info[2].lower().split(\" \")\n",
    "    # remove stopwords\n",
    "    source_title = [token for token in source_title if token not in stpwds]\n",
    "    source_title = [stemmer.stem(token) for token in source_title]\n",
    "    \n",
    "    target_title = target_info[2].lower().split(\" \")\n",
    "    target_title = [token for token in target_title if token not in stpwds]\n",
    "    target_title = [stemmer.stem(token) for token in target_title]\n",
    "    \n",
    "    source_auth = source_info[3].split(\",\")\n",
    "    target_auth = target_info[3].split(\",\")\n",
    "\n",
    "    source_sim = M[ID_pos[source],:].toarray()[0]\n",
    "    target_sim = M[ID_pos[target],:].toarray()[0]\n",
    "\n",
    "    temp_cosine = 0.0\n",
    "    if np.linalg.norm(source_sim)!=0 and np.linalg.norm(target_sim)!=0 :\n",
    "        temp_cosine = cosine(source_sim,target_sim)\n",
    "    tfidf_cos.append(temp_cosine)\n",
    "\n",
    "    \n",
    "\n",
    " \n",
    "    \n",
    "    overlap_title.append(len(set(source_title).intersection(set(target_title))))\n",
    "    temp_diff.append(int(source_info[1]) - int(target_info[1]))\n",
    "    comm_auth.append(len(set(source_auth).intersection(set(target_auth))))\n",
    "\n",
    "\n",
    "    if counter % 10000 == 0:\n",
    "        print counter, \"training examples processsed\"\n",
    "    counter += 1\n",
    "# convert list of lists into array\n",
    "# documents as rows, unique words as columns (i.e., example as rows, features as columns)\n",
    "#training_features = np.array([overlap_title, temp_diff, comm_auth]).T\n",
    "training_features = np.array([overlap_title, temp_diff, comm_auth,tfidf_cos]).T\n",
    "\n",
    "# scale\n",
    "training_features = preprocessing.scale(training_features)\n",
    "\n",
    "# convert labels into integers then into column array\n",
    "labels = [int(element[2]) for element in training_set]\n",
    "labels = list(labels)\n",
    "labels_array = np.array(labels)\n",
    "\n",
    "print \"evaluating\"\n",
    "\n",
    "\n",
    "#evaluation\n",
    "kf = KFold(len(training_set), n_folds=10)\n",
    "sumf1=0\n",
    "for train_index, test_index in kf:\n",
    "    X_train, X_test = training_features[train_index], training_features[test_index]\n",
    "    y_train, y_test = labels_array[train_index], labels_array[test_index]\n",
    "    # initialize basic SVM\n",
    "    classifier = svm.LinearSVC()\n",
    "    # train\n",
    "    classifier.fit(X_train, y_train)\n",
    "    pred=classifier.predict(X_test)\n",
    "    sumf1+=f1_score(pred,y_test)\n",
    "\n",
    "print \"\\n\\n\"\n",
    "print sumf1/10.0\n",
    "\n"
   ]
  },
  {
   "cell_type": "markdown",
   "metadata": {},
   "source": [
    "# test  \n",
    "min_df=0.001, max_df=0.75"
   ]
  },
  {
   "cell_type": "code",
   "execution_count": 5,
   "metadata": {
    "collapsed": false
   },
   "outputs": [
    {
     "name": "stdout",
     "output_type": "stream",
     "text": [
      "0 training examples processsed\n",
      "10000 training examples processsed\n",
      "20000 training examples processsed\n",
      "30000 training examples processsed\n",
      "evaluating\n",
      "\n",
      "\n",
      "\n",
      "0.681104069959\n"
     ]
    }
   ],
   "source": [
    "IDs = []\n",
    "ID_pos={}\n",
    "for element in node_info:\n",
    "    ID_pos[element[0]]=len(IDs)\n",
    "    IDs.append(element[0])\n",
    "\n",
    "# we will use three basic features:\n",
    "\n",
    "# number of overlapping words in title\n",
    "overlap_title = []\n",
    "\n",
    "# temporal distance between the papers\n",
    "temp_diff = []\n",
    "\n",
    "# number of common authors\n",
    "comm_auth = []\n",
    "\n",
    "#content text feauture\n",
    "content_fea=[]\n",
    "\n",
    "#tfidf similarities\n",
    "tfidf_cos=[]\n",
    "vectorizer=TfidfVectorizer(stop_words=\"english\",\n",
    "            min_df=1, max_df=1)\n",
    "\n",
    "corpus=[element[5] for element in node_info]\n",
    "\n",
    "M = vectorizer.fit_transform(corpus)\n",
    "\n",
    "\n",
    "counter = 0\n",
    "for i in xrange(len(training_set)):\n",
    "    source = training_set[i][0]\n",
    "    target = training_set[i][1]\n",
    "\n",
    "\n",
    "    source_info = node_info[ID_pos[source]]\n",
    "    target_info = node_info[ID_pos[target]]\n",
    "  \n",
    "    \n",
    "    # convert to lowercase and tokenize\n",
    "    source_title = source_info[2].lower().split(\" \")\n",
    "    # remove stopwords\n",
    "    source_title = [token for token in source_title if token not in stpwds]\n",
    "    source_title = [stemmer.stem(token) for token in source_title]\n",
    "    \n",
    "    target_title = target_info[2].lower().split(\" \")\n",
    "    target_title = [token for token in target_title if token not in stpwds]\n",
    "    target_title = [stemmer.stem(token) for token in target_title]\n",
    "    \n",
    "    source_auth = source_info[3].split(\",\")\n",
    "    target_auth = target_info[3].split(\",\")\n",
    "\n",
    "    source_sim = M[ID_pos[source],:].toarray()[0]\n",
    "    target_sim = M[ID_pos[target],:].toarray()[0]\n",
    "\n",
    "    temp_cosine = 0.0\n",
    "    if np.linalg.norm(source_sim)!=0 and np.linalg.norm(target_sim)!=0 :\n",
    "        temp_cosine = cosine(source_sim,target_sim)\n",
    "    tfidf_cos.append(temp_cosine)\n",
    "\n",
    "    \n",
    "\n",
    " \n",
    "    \n",
    "    overlap_title.append(len(set(source_title).intersection(set(target_title))))\n",
    "    temp_diff.append(int(source_info[1]) - int(target_info[1]))\n",
    "    comm_auth.append(len(set(source_auth).intersection(set(target_auth))))\n",
    "\n",
    "\n",
    "    if counter % 10000 == 0:\n",
    "        print counter, \"training examples processsed\"\n",
    "    counter += 1\n",
    "# convert list of lists into array\n",
    "# documents as rows, unique words as columns (i.e., example as rows, features as columns)\n",
    "#training_features = np.array([overlap_title, temp_diff, comm_auth]).T\n",
    "training_features = np.array([overlap_title, temp_diff, comm_auth,tfidf_cos]).T\n",
    "\n",
    "# scale\n",
    "training_features = preprocessing.scale(training_features)\n",
    "\n",
    "# convert labels into integers then into column array\n",
    "labels = [int(element[2]) for element in training_set]\n",
    "labels = list(labels)\n",
    "labels_array = np.array(labels)\n",
    "\n",
    "print \"evaluating\"\n",
    "\n",
    "\n",
    "#evaluation\n",
    "kf = KFold(len(training_set), n_folds=10)\n",
    "sumf1=0\n",
    "for train_index, test_index in kf:\n",
    "    X_train, X_test = training_features[train_index], training_features[test_index]\n",
    "    y_train, y_test = labels_array[train_index], labels_array[test_index]\n",
    "    # initialize basic SVM\n",
    "    classifier = svm.LinearSVC()\n",
    "    # train\n",
    "    classifier.fit(X_train, y_train)\n",
    "    pred=classifier.predict(X_test)\n",
    "    sumf1+=f1_score(pred,y_test)\n",
    "\n",
    "print \"\\n\\n\"\n",
    "print sumf1/10.0\n",
    "\n",
    "\n"
   ]
  },
  {
   "cell_type": "code",
   "execution_count": null,
   "metadata": {
    "collapsed": true
   },
   "outputs": [],
   "source": []
  },
  {
   "cell_type": "code",
   "execution_count": null,
   "metadata": {
    "collapsed": true
   },
   "outputs": [],
   "source": []
  },
  {
   "cell_type": "code",
   "execution_count": null,
   "metadata": {
    "collapsed": true
   },
   "outputs": [],
   "source": []
  },
  {
   "cell_type": "code",
   "execution_count": 3,
   "metadata": {
    "collapsed": false
   },
   "outputs": [
    {
     "name": "stdout",
     "output_type": "stream",
     "text": [
      "0 training examples processsed\n"
     ]
    },
    {
     "name": "stderr",
     "output_type": "stream",
     "text": [
      "/Users/vincent/anaconda2/lib/python2.7/site-packages/sklearn/utils/validation.py:420: DataConversionWarning: Data with input dtype int64 was converted to float64 by the scale function.\n",
      "  warnings.warn(msg, DataConversionWarning)\n"
     ]
    }
   ],
   "source": []
  },
  {
   "cell_type": "code",
   "execution_count": 9,
   "metadata": {
    "collapsed": true
   },
   "outputs": [],
   "source": [
    "with open('../output/new_predictions.csv','wb') as sub:\n",
    "    csv_out=csv.writer(sub)\n",
    "    for index,row in enumerate(pred):\n",
    "        csv_out.writerow([index,row])"
   ]
  },
  {
   "cell_type": "code",
   "execution_count": null,
   "metadata": {
    "collapsed": true
   },
   "outputs": [],
   "source": []
  }
 ],
 "metadata": {
  "anaconda-cloud": {},
  "kernelspec": {
   "display_name": "Python [conda root]",
   "language": "python",
   "name": "conda-root-py"
  },
  "language_info": {
   "codemirror_mode": {
    "name": "ipython",
    "version": 2
   },
   "file_extension": ".py",
   "mimetype": "text/x-python",
   "name": "python",
   "nbconvert_exporter": "python",
   "pygments_lexer": "ipython2",
   "version": "2.7.12"
  }
 },
 "nbformat": 4,
 "nbformat_minor": 1
}
