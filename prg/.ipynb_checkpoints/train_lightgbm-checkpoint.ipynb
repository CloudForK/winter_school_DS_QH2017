{
 "cells": [
  {
   "cell_type": "code",
   "execution_count": 2,
   "metadata": {
    "collapsed": false
   },
   "outputs": [],
   "source": [
    "import lightgbm as lgb"
   ]
  },
  {
   "cell_type": "code",
   "execution_count": 3,
   "metadata": {
    "collapsed": true
   },
   "outputs": [],
   "source": [
    "import pandas as pd\n",
    "import numpy as np\n",
    "from numpy import genfromtxt"
   ]
  },
  {
   "cell_type": "code",
   "execution_count": 4,
   "metadata": {
    "collapsed": true
   },
   "outputs": [],
   "source": [
    "training_feautres = np.genfromtxt(\"../output/training_feautres.csv\", delimiter=',')\n",
    "training_labels = np.genfromtxt(\"../output/training_labels.csv\", delimiter=',')\n",
    "test_features = np.genfromtxt(\"../output/test_features.csv\", delimiter=',')\n",
    "# my_data = genfromtxt('my_file.csv', delimiter=',')"
   ]
  },
  {
   "cell_type": "code",
   "execution_count": 5,
   "metadata": {
    "collapsed": true
   },
   "outputs": [],
   "source": [
    "train_data = lgb.Dataset(training_feautres, label=training_labels)\n",
    "\n",
    "test_data = train_data.create_valid(test_features)"
   ]
  },
  {
   "cell_type": "code",
   "execution_count": 6,
   "metadata": {
    "collapsed": false
   },
   "outputs": [
    {
     "data": {
      "text/plain": [
       "array([ 1.,  1.,  0., ...,  0.,  1.,  1.])"
      ]
     },
     "execution_count": 6,
     "metadata": {},
     "output_type": "execute_result"
    }
   ],
   "source": [
    "training_labels"
   ]
  },
  {
   "cell_type": "markdown",
   "metadata": {},
   "source": [
    "learning_rate = 0.1\n",
    "num_leaves = 255\n",
    "num_trees = 500\n",
    "num_threads = 16\n",
    "min_data_in_leaf=0\n",
    "min_sum_hessian_in_leaf=100"
   ]
  },
  {
   "cell_type": "code",
   "execution_count": 7,
   "metadata": {
    "collapsed": false
   },
   "outputs": [],
   "source": [
    "param = {'num_leaves':250, 'num_trees':500, 'objective':'binary' ,'max_depth':5, \n",
    "         'max_bin':1000, 'learning_rate':0.1,'min_data_in_leaf':0,'min_sum_hessian_in_leaf':100}\n",
    "param['metric'] = 'binary_logloss'"
   ]
  },
  {
   "cell_type": "code",
   "execution_count": 8,
   "metadata": {
    "collapsed": false
   },
   "outputs": [
    {
     "name": "stdout",
     "output_type": "stream",
     "text": [
      "[1]\tvalid_0's binary_logloss: 0.705036\n",
      "[2]\tvalid_0's binary_logloss: 0.723574\n",
      "[3]\tvalid_0's binary_logloss: 0.747203\n",
      "[4]\tvalid_0's binary_logloss: 0.774723\n",
      "[5]\tvalid_0's binary_logloss: 0.80532\n",
      "[6]\tvalid_0's binary_logloss: 0.838655\n",
      "[7]\tvalid_0's binary_logloss: 0.87834\n",
      "[8]\tvalid_0's binary_logloss: 0.914784\n",
      "[9]\tvalid_0's binary_logloss: 0.952781\n",
      "[10]\tvalid_0's binary_logloss: 0.995048\n"
     ]
    }
   ],
   "source": [
    "num_round = 10\n",
    "bst = lgb.train(param, train_data, num_round, valid_sets=[test_data] )\n"
   ]
  },
  {
   "cell_type": "code",
   "execution_count": 9,
   "metadata": {
    "collapsed": false
   },
   "outputs": [
    {
     "data": {
      "text/plain": [
       "{u'binary_logloss-mean': [0.60730505126693801,\n",
       "  0.53699459469833977,\n",
       "  0.47837689515682158,\n",
       "  0.42890278448325603,\n",
       "  0.38667960695491194,\n",
       "  0.35039653375475444,\n",
       "  0.31897205482349877,\n",
       "  0.29163967783589917,\n",
       "  0.26776550221188355,\n",
       "  0.24682707455848441],\n",
       " u'binary_logloss-stdv': [3.8213393876811214e-05,\n",
       "  9.2055695231263644e-05,\n",
       "  0.00013180559654222331,\n",
       "  0.00015516242388972297,\n",
       "  0.00018729898382994969,\n",
       "  0.00023368288280674614,\n",
       "  0.00021564518449651576,\n",
       "  0.00028313088572708383,\n",
       "  0.00030721562649143279,\n",
       "  0.00033147463545580078]}"
      ]
     },
     "execution_count": 9,
     "metadata": {},
     "output_type": "execute_result"
    }
   ],
   "source": [
    "num_round = 10\n",
    "lgb.cv(param, train_data, num_round, nfold=5)\n"
   ]
  },
  {
   "cell_type": "code",
   "execution_count": 10,
   "metadata": {
    "collapsed": false
   },
   "outputs": [],
   "source": [
    "ypred1 = bst.predict(test_features,raw_score=True)\n"
   ]
  },
  {
   "cell_type": "code",
   "execution_count": 11,
   "metadata": {
    "collapsed": false
   },
   "outputs": [
    {
     "data": {
      "text/plain": [
       "array([-0.54724266,  0.75635393,  0.75635393, ..., -0.60907918,\n",
       "       -0.75490263,  0.75149979])"
      ]
     },
     "execution_count": 11,
     "metadata": {},
     "output_type": "execute_result"
    }
   ],
   "source": [
    "ypred1"
   ]
  },
  {
   "cell_type": "code",
   "execution_count": 12,
   "metadata": {
    "collapsed": true
   },
   "outputs": [],
   "source": [
    "ypred2 = bst.predict(test_features,raw_score=False)\n",
    "\n"
   ]
  },
  {
   "cell_type": "code",
   "execution_count": 13,
   "metadata": {
    "collapsed": false
   },
   "outputs": [
    {
     "data": {
      "text/plain": [
       "array([ 0.25077461,  0.81946216,  0.81946216, ...,  0.22826071,\n",
       "        0.18096765,  0.81802143])"
      ]
     },
     "execution_count": 13,
     "metadata": {},
     "output_type": "execute_result"
    }
   ],
   "source": [
    "ypred2"
   ]
  },
  {
   "cell_type": "code",
   "execution_count": 14,
   "metadata": {
    "collapsed": false
   },
   "outputs": [
    {
     "data": {
      "text/plain": [
       "numpy.ndarray"
      ]
     },
     "execution_count": 14,
     "metadata": {},
     "output_type": "execute_result"
    }
   ],
   "source": [
    "type(ypred2)"
   ]
  },
  {
   "cell_type": "code",
   "execution_count": 15,
   "metadata": {
    "collapsed": false
   },
   "outputs": [],
   "source": [
    "ypred3 = ypred2-0.5"
   ]
  },
  {
   "cell_type": "code",
   "execution_count": 16,
   "metadata": {
    "collapsed": false
   },
   "outputs": [],
   "source": [
    "index_0 = [ypred3<=0]\n",
    "index_1 = [ypred3>0]\n",
    "\n"
   ]
  },
  {
   "cell_type": "code",
   "execution_count": 17,
   "metadata": {
    "collapsed": false,
    "scrolled": true
   },
   "outputs": [
    {
     "data": {
      "text/plain": [
       "[array([ True, False, False, ...,  True,  True, False], dtype=bool)]"
      ]
     },
     "execution_count": 17,
     "metadata": {},
     "output_type": "execute_result"
    }
   ],
   "source": [
    "index_0"
   ]
  },
  {
   "cell_type": "code",
   "execution_count": 18,
   "metadata": {
    "collapsed": false
   },
   "outputs": [
    {
     "data": {
      "text/plain": [
       "[array([False,  True,  True, ..., False, False,  True], dtype=bool)]"
      ]
     },
     "execution_count": 18,
     "metadata": {},
     "output_type": "execute_result"
    }
   ],
   "source": [
    "index_1"
   ]
  },
  {
   "cell_type": "code",
   "execution_count": 19,
   "metadata": {
    "collapsed": false
   },
   "outputs": [],
   "source": [
    "ypred3[ypred3<=0]=0\n",
    "ypred3[ypred3>0]=1"
   ]
  },
  {
   "cell_type": "code",
   "execution_count": 20,
   "metadata": {
    "collapsed": false
   },
   "outputs": [
    {
     "data": {
      "text/plain": [
       "array([ 0.,  1.,  1., ...,  0.,  0.,  1.])"
      ]
     },
     "execution_count": 20,
     "metadata": {},
     "output_type": "execute_result"
    }
   ],
   "source": [
    "ypred3"
   ]
  },
  {
   "cell_type": "code",
   "execution_count": null,
   "metadata": {
    "collapsed": true
   },
   "outputs": [],
   "source": []
  },
  {
   "cell_type": "markdown",
   "metadata": {
    "collapsed": false
   },
   "source": [
    "np.savetxt('../output/submission_lightgbm.csv', np.c_[range(1, len(test_features) + 1), ypred], delimiter=',',\n",
    "              header='id,prediction', comments='', fmt='%d')"
   ]
  },
  {
   "cell_type": "code",
   "execution_count": 21,
   "metadata": {
    "collapsed": false
   },
   "outputs": [
    {
     "name": "stdout",
     "output_type": "stream",
     "text": [
      "write_result\n"
     ]
    }
   ],
   "source": [
    "import csv\n",
    "# results = np.concatenate((np.reshape(IDs,(np.size(pred), 1)), np.reshape(pred, (np.size(pred),1))), axis=1)\n",
    "print 'write_result'\n",
    "with open(\"new_submission_gbdt.txt\", \"w\") as f:\n",
    "    # writer = csv.writer(f, )\n",
    "    # writer.writerow(['id','prediction'])\n",
    "    # writer.writerows(results)  \n",
    "    csv_out=csv.writer(f)\n",
    "    csv_out.writerow(['id','prediction'])\n",
    "    for index,row in enumerate(ypred3):\n",
    "        csv_out.writerow([index,int(row)])\n",
    "\n",
    "\n"
   ]
  },
  {
   "cell_type": "code",
   "execution_count": 22,
   "metadata": {
    "collapsed": true
   },
   "outputs": [],
   "source": [
    "?bst.predict"
   ]
  },
  {
   "cell_type": "code",
   "execution_count": null,
   "metadata": {
    "collapsed": true
   },
   "outputs": [],
   "source": []
  },
  {
   "cell_type": "code",
   "execution_count": null,
   "metadata": {
    "collapsed": true
   },
   "outputs": [],
   "source": []
  },
  {
   "cell_type": "code",
   "execution_count": 115,
   "metadata": {
    "collapsed": false
   },
   "outputs": [],
   "source": [
    "o1 = np.ones(3)  "
   ]
  },
  {
   "cell_type": "code",
   "execution_count": 117,
   "metadata": {
    "collapsed": false
   },
   "outputs": [
    {
     "data": {
      "text/plain": [
       "array([ 0.,  0.,  0.])"
      ]
     },
     "execution_count": 117,
     "metadata": {},
     "output_type": "execute_result"
    }
   ],
   "source": [
    "o1-1"
   ]
  },
  {
   "cell_type": "code",
   "execution_count": null,
   "metadata": {
    "collapsed": true
   },
   "outputs": [],
   "source": []
  }
 ],
 "metadata": {
  "anaconda-cloud": {},
  "kernelspec": {
   "display_name": "Python [conda root]",
   "language": "python",
   "name": "conda-root-py"
  },
  "language_info": {
   "codemirror_mode": {
    "name": "ipython",
    "version": 2
   },
   "file_extension": ".py",
   "mimetype": "text/x-python",
   "name": "python",
   "nbconvert_exporter": "python",
   "pygments_lexer": "ipython2",
   "version": "2.7.12"
  }
 },
 "nbformat": 4,
 "nbformat_minor": 1
}
