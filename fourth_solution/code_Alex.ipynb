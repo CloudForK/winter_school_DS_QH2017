{
 "cells": [
  {
   "cell_type": "code",
   "execution_count": 14,
   "metadata": {
    "collapsed": true
   },
   "outputs": [],
   "source": [
    "import random\n",
    "import numpy as np\n",
    "import igraph\n",
    "import nltk\n",
    "from sklearn import svm\n",
    "from sklearn.feature_extraction.text import TfidfVectorizer\n",
    "from sklearn.metrics.pairwise import linear_kernel\n",
    "from sklearn.cross_validation import KFold\n",
    "from sklearn.metrics import f1_score\n",
    "from sklearn import preprocessing\n",
    "from scipy.spatial.distance import cosine\n",
    "import nltk\n",
    "import csv\n",
    "from sklearn.feature_extraction.text import CountVectorizer\n",
    "from sklearn.feature_extraction.text import TfidfTransformer\n",
    "from sklearn.feature_extraction.text import TfidfVectorizer\n",
    "from sklearn.ensemble import RandomForestClassifier\n",
    "import re\n",
    "from sklearn import decomposition\n",
    "import sklearn.feature_extraction.text as text\n",
    "import networkx as nx\n",
    "from scipy.sparse.linalg import svds"
   ]
  },
  {
   "cell_type": "code",
   "execution_count": 25,
   "metadata": {
    "collapsed": false
   },
   "outputs": [
    {
     "name": "stdout",
     "output_type": "stream",
     "text": [
      "[nltk_data] Downloading package punkt to /Users/vincent/nltk_data...\n",
      "[nltk_data]   Package punkt is already up-to-date!\n",
      "[nltk_data] Downloading package stopwords to\n",
      "[nltk_data]     /Users/vincent/nltk_data...\n",
      "[nltk_data]   Package stopwords is already up-to-date!\n"
     ]
    },
    {
     "data": {
      "text/plain": [
       "True"
      ]
     },
     "execution_count": 25,
     "metadata": {},
     "output_type": "execute_result"
    }
   ],
   "source": [
    "nltk.download('punkt') # for tokenization\n",
    "nltk.download('stopwords')"
   ]
  },
  {
   "cell_type": "code",
   "execution_count": 16,
   "metadata": {
    "collapsed": true
   },
   "outputs": [],
   "source": [
    "def preprocess_string(string):\n",
    "    th_regexp = re.compile('[a-zA-Z\\d]*-th')\n",
    "    citation_regexp = re.compile('[a-zA-Z]+[\\d]+')\n",
    "    digit_regexp = re.compile('[\\d]+')\n",
    "    double_whitespace_regexp = re.compile('\\s[\\s]+')\n",
    "    non_alphabet_regexp = re.compile('[\\W]')\n",
    "    one_letter_regexp = re.compile('\\s[a-zA-Z]\\s')\n",
    "    two_letters_regexp = re.compile('\\s[a-zA-Z][a-zA-Z]\\s')   \n",
    "    \n",
    "    \n",
    "    \n",
    "    tagged_tokens = nltk.pos_tag(nltk.word_tokenize(string))\n",
    "    \n",
    "    verbs_tags_set = set(['VB', 'VBD', 'VBG', 'VBN', 'VBP', 'VBZ'])\n",
    "    \n",
    "    resulted_tokens = [token for (token, tag) in tagged_tokens if tag not in verbs_tags_set]\n",
    "    \n",
    "    for (token,tag) in tagged_tokens:\n",
    "        if tag not in verbs_tags_set:\n",
    "            resulted_tokens.append(token)\n",
    "            \n",
    "    result = \" \".join(resulted_tokens)\n",
    "\n",
    "\n",
    "    result = string\n",
    "    result = th_regexp.sub('', result)\n",
    "#     result = citation_regexp.sub('', result)\n",
    "    result = digit_regexp.sub('', result)\n",
    "    result = non_alphabet_regexp.sub(' ', result)\n",
    "    result = one_letter_regexp.sub(' ', result)\n",
    "    result = two_letters_regexp.sub(' ', result)\n",
    "    result = double_whitespace_regexp.sub(' ', result)    \n",
    "    \n",
    "    return result"
   ]
  },
  {
   "cell_type": "code",
   "execution_count": 17,
   "metadata": {
    "collapsed": false
   },
   "outputs": [
    {
     "data": {
      "text/plain": [
       "u'/Users/vincent/OneDrive/axa/DS winter school/winter_school_DS_QH2017/prg'"
      ]
     },
     "execution_count": 17,
     "metadata": {},
     "output_type": "execute_result"
    }
   ],
   "source": [
    "pwd\n"
   ]
  },
  {
   "cell_type": "code",
   "execution_count": 22,
   "metadata": {
    "collapsed": true
   },
   "outputs": [],
   "source": [
    "with open(\"../input/node_information.csv\", \"r\") as f:\n",
    "    reader = csv.reader(f)\n",
    "    node_info = list(reader)\n",
    "# vectorizer = TfidfVectorizer(stop_words=\"english\", max_df=0.75, ngram_range=(1,1))\n",
    "# TFIDF_matrix = vectorizer.fit_transform(corpus)\n",
    "\n",
    "# importance_vectorizer = TfidfVectorizer(stop_words=\"english\", max_df=0.0001, ngram_range=(1,1))\n",
    "# TFIDF_matrix_sparse = importance_vectorizer.fit_transform(corpus)\n",
    "# num_topics = 20\n",
    "# U, S, V = svds(TFIDF_matrix_sparse, k=num_topics)\n",
    "# TOPIC_matrix = np.dot(TFIDF_matrix, V.transpose())"
   ]
  },
  {
   "cell_type": "code",
   "execution_count": 26,
   "metadata": {
    "collapsed": false
   },
   "outputs": [],
   "source": [
    "corpus = [preprocess_string(element[5]) for element in node_info]"
   ]
  },
  {
   "cell_type": "code",
   "execution_count": 27,
   "metadata": {
    "collapsed": true
   },
   "outputs": [],
   "source": [
    "vectorizer = TfidfVectorizer(stop_words=\"english\", max_df=0.75, ngram_range=(1,1))\n",
    "TFIDF_matrix = vectorizer.fit_transform(corpus)\n",
    "num_topics = 100\n",
    "_,_, V = svds(TFIDF_matrix, k=num_topics)\n",
    "TOPIC_matrix = TFIDF_matrix.dot(V.transpose())\n",
    "del V"
   ]
  },
  {
   "cell_type": "code",
   "execution_count": null,
   "metadata": {
    "collapsed": true
   },
   "outputs": [],
   "source": []
  }
 ],
 "metadata": {
  "kernelspec": {
   "display_name": "Python [conda root]",
   "language": "python",
   "name": "conda-root-py"
  },
  "language_info": {
   "codemirror_mode": {
    "name": "ipython",
    "version": 2
   },
   "file_extension": ".py",
   "mimetype": "text/x-python",
   "name": "python",
   "nbconvert_exporter": "python",
   "pygments_lexer": "ipython2",
   "version": "2.7.12"
  }
 },
 "nbformat": 4,
 "nbformat_minor": 1
}
